{
  "nbformat": 4,
  "nbformat_minor": 0,
  "metadata": {
    "colab": {
      "provenance": [],
      "authorship_tag": "ABX9TyMHODBPZbMe4Lg3aFKxg6tI",
      "include_colab_link": true
    },
    "kernelspec": {
      "name": "python3",
      "display_name": "Python 3"
    },
    "language_info": {
      "name": "python"
    }
  },
  "cells": [
    {
      "cell_type": "markdown",
      "metadata": {
        "id": "view-in-github",
        "colab_type": "text"
      },
      "source": [
        "<a href=\"https://colab.research.google.com/github/ASiso-m/CursoLeo/blob/main/PIB_INDE.ipynb\" target=\"_parent\"><img src=\"https://colab.research.google.com/assets/colab-badge.svg\" alt=\"Open In Colab\"/></a>"
      ]
    },
    {
      "cell_type": "code",
      "execution_count": null,
      "metadata": {
        "id": "EenilXeDU6Xp"
      },
      "outputs": [],
      "source": [
        "import pandas as pd\n",
        "pd.read_excel('https://www.indec.gob.ar/ftp/cuadros/economia/sh_oferta_demanda_desest_06_25.xls', sheet_name='desestacionalizado n', skiprows=(0,1,2,4,5,10,11,16,17,22,23,28,29,34,35,40,41,46,47,52,53,58,59,64,65,70,71,76,77,82,83,88,89,94,95,100,101,106,107,112,113,118,119,124,125,130,131,133,134,135), usecols=\"c:h\")\n",
        "# en fila 3 están los membretes de las columnas"
      ]
    },
    {
      "cell_type": "code",
      "source": [
        "# Para operar\n",
        "PIB = pd.read_excel('https://www.indec.gob.ar/ftp/cuadros/economia/sh_oferta_demanda_desest_06_25.xls', sheet_name='desestacionalizado n', skiprows=(0,1,2,4,5,10,11,16,17,22,23,28,29,34,35,40,41,46,47,52,53,58,59,64,65,70,71,76,77,82,83,88,89,94,95,100,101,106,107,112,113,118,119,124,125,130,131,133,134,135), usecols=\"c:h\")\n",
        "PIB\n",
        "# el primer renglón crea la variable, el segundo la muestra"
      ],
      "metadata": {
        "id": "8MLQ1A1cVXHq"
      },
      "execution_count": null,
      "outputs": []
    },
    {
      "cell_type": "code",
      "source": [
        "# Para ver una columna\n",
        "PIB['FBCF']"
      ],
      "metadata": {
        "id": "arPn_1dJVora"
      },
      "execution_count": null,
      "outputs": []
    },
    {
      "cell_type": "code",
      "source": [
        "FBCF = PIB['FBCF']\n",
        "# solo lo muestra\n",
        "FBCF[(FBCF) > 150000]\n",
        "# lo muestra con formato\n",
        "# crea una nueva variable separada y muestra solo los mayores de cierto monto"
      ],
      "metadata": {
        "id": "9nMSTNqKVuMt"
      },
      "execution_count": null,
      "outputs": []
    },
    {
      "cell_type": "code",
      "source": [
        "pd.read_excel('https://www.indec.gob.ar/ftp/cuadros/economia/sh_oferta_demanda_desest_06_25.xls', sheet_name='desestacionalizado n', skiprows=(0,1,2,4,5,10,11,16,17,22,23,28,29,34,35,40,41,46,47,52,53,58,59,64,65,70,71,76,77,82,83,88,89,94,95,100,101,106,107,112,113,118,119,124,125,130,131,133,134,135), usecols=\"a:h\")\n",
        "PIB['Año'] = PIB['Año'].fillna(method='ffill')\n",
        "# completa el año en celdas vacías"
      ],
      "metadata": {
        "id": "OpFwHEzMWD9J"
      },
      "execution_count": null,
      "outputs": []
    },
    {
      "cell_type": "code",
      "source": [
        "PIB['Fecha'] = df['Año'].astype(str) + '-' + df['Trimestre'].astype(str)\n",
        "df['Fecha'] = pd.to_datetime(df['Fecha'], format='%Y-%m')\n",
        "display(df.head())\n",
        "PIB = PIB.drop(['Año', 'Trimestre'], axis=1)"
      ],
      "metadata": {
        "id": "_zdWW7SIWOD0"
      },
      "execution_count": null,
      "outputs": []
    }
  ]
}